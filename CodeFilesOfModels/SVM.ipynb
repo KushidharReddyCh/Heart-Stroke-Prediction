{
 "cells": [
  {
   "cell_type": "markdown",
   "metadata": {},
   "source": [
    "## Importing All required Libraries¶"
   ]
  },
  {
   "cell_type": "code",
   "execution_count": 1,
   "metadata": {},
   "outputs": [],
   "source": [
    "import numpy as np\n",
    "import pandas as pd\n",
    "import seaborn as sns\n",
    "import matplotlib.pyplot as plt\n",
    "from sklearn.metrics import classification_report\n",
    "from sklearn.metrics import confusion_matrix\n",
    "from sklearn.metrics import accuracy_score\n",
    "from sklearn.svm import SVC\n",
    "from sklearn.model_selection import GridSearchCV"
   ]
  },
  {
   "cell_type": "markdown",
   "metadata": {},
   "source": [
    "## Read Data"
   ]
  },
  {
   "cell_type": "code",
   "execution_count": 2,
   "metadata": {},
   "outputs": [],
   "source": [
    "x_train = np.genfromtxt('../Datasets/X_train.csv', delimiter = ',')[1:, 1:]\n",
    "x_test  = np.genfromtxt('../Datasets/X_test.csv', delimiter = ',')[1:, 1:]"
   ]
  },
  {
   "cell_type": "code",
   "execution_count": 3,
   "metadata": {},
   "outputs": [],
   "source": [
    "y_train = np.genfromtxt('../Datasets/y_train.csv', delimiter = ',')[1:, 1:]\n",
    "y_train = y_train.reshape(y_train.shape[0])\n",
    "\n",
    "y_test = np.genfromtxt('../Datasets/y_test.csv', delimiter = ',')[1:, 1:]\n",
    "y_test = y_test.reshape(y_test.shape[0])"
   ]
  },
  {
   "cell_type": "markdown",
   "metadata": {},
   "source": [
    "## Base Line Model (With Out Optimization)"
   ]
  },
  {
   "cell_type": "code",
   "execution_count": 4,
   "metadata": {},
   "outputs": [],
   "source": [
    "clf = SVC(random_state = 0)\n",
    "clf.fit(x_train, y_train)\n",
    "y_pred_train = clf.predict(x_train)\n",
    "y_pred_test = clf.predict(x_test)"
   ]
  },
  {
   "cell_type": "code",
   "execution_count": 5,
   "metadata": {},
   "outputs": [
    {
     "name": "stdout",
     "output_type": "stream",
     "text": [
      "-----------------------------------------------------------------------\n",
      "              precision    recall  f1-score   support\n",
      "\n",
      "         0.0       0.82      0.93      0.87        29\n",
      "         1.0       0.93      0.81      0.87        32\n",
      "\n",
      "    accuracy                           0.87        61\n",
      "   macro avg       0.87      0.87      0.87        61\n",
      "weighted avg       0.88      0.87      0.87        61\n",
      "\n",
      "-----------------------------------------------------------------------\n"
     ]
    }
   ],
   "source": [
    "print(\"-----------------------------------------------------------------------\")\n",
    "print(classification_report(y_test, y_pred_test))\n",
    "print(\"-----------------------------------------------------------------------\")"
   ]
  },
  {
   "cell_type": "code",
   "execution_count": 6,
   "metadata": {
    "scrolled": true
   },
   "outputs": [
    {
     "name": "stdout",
     "output_type": "stream",
     "text": [
      "-----------------------------------------------------------------------\n",
      "Confusion matrix : \n",
      " [[27  2]\n",
      " [ 6 26]]\n",
      "-----------------------------------------------------------------------\n",
      "\u001b[1mTrain Accuracy : 90.50%\n",
      "Test Accuracy  : 86.89%\n",
      "-----------------------------------------------------------------------\n"
     ]
    }
   ],
   "source": [
    "print(\"-----------------------------------------------------------------------\")\n",
    "print(\"Confusion matrix : \\n\", confusion_matrix(y_test, y_pred_test))\n",
    "print(\"-----------------------------------------------------------------------\")\n",
    "print('\\033[1m'+\"Train Accuracy : {:.2f}%\".format(accuracy_score(y_train,clf.predict(x_train))*100))\n",
    "print(\"Test Accuracy  : {:.2f}%\".format(accuracy_score(y_test,y_pred_test)*100))\n",
    "print(\"-----------------------------------------------------------------------\")"
   ]
  },
  {
   "cell_type": "markdown",
   "metadata": {},
   "source": [
    "## Parameter Tuning"
   ]
  },
  {
   "cell_type": "code",
   "execution_count": 11,
   "metadata": {},
   "outputs": [],
   "source": [
    "param = [\n",
    "  {\n",
    "      'kernel' : ['linear', 'poly', 'rbf', 'sigmoid'], \n",
    "       'C': [0.001,0.01,0.1, 1, 10, 100, 1000],\n",
    "       'gamma' :[1, 0.1, 0.01, 0.001, 0.0001,'scale','auto']\n",
    "   },\n",
    " ]\n",
    "grid_clf = GridSearchCV(SVC(), param_grid=param, scoring='accuracy', cv=10)\n",
    "grid_clf.fit(x_train,y_train)\n",
    "grid_clf.best_params_"
   ]
  },
  {
   "cell_type": "code",
   "execution_count": 12,
   "metadata": {},
   "outputs": [],
   "source": [
    "classifier = SVC(kernel='rbf',gamma='scale',C=1.445,random_state = 0)\n",
    "classifier.fit(x_train, y_train)\n",
    "y_pred = classifier.predict(x_test)"
   ]
  },
  {
   "cell_type": "code",
   "execution_count": 13,
   "metadata": {},
   "outputs": [
    {
     "name": "stdout",
     "output_type": "stream",
     "text": [
      "-----------------------------------------------------------------------\n",
      "              precision    recall  f1-score   support\n",
      "\n",
      "         0.0       0.82      0.93      0.87        29\n",
      "         1.0       0.93      0.81      0.87        32\n",
      "\n",
      "    accuracy                           0.87        61\n",
      "   macro avg       0.87      0.87      0.87        61\n",
      "weighted avg       0.88      0.87      0.87        61\n",
      "\n",
      "-----------------------------------------------------------------------\n",
      "Confusion matrix : \n",
      " [[27  2]\n",
      " [ 4 28]]\n",
      "-----------------------------------------------------------------------\n",
      "\u001b[1mTrain Accuracy : 92.56%\n",
      "Test Accuracy  : 90.16%\n",
      "-----------------------------------------------------------------------\n"
     ]
    }
   ],
   "source": [
    "print(\"-----------------------------------------------------------------------\")\n",
    "print(classification_report(y_test, y_pred_test))\n",
    "print(\"-----------------------------------------------------------------------\")\n",
    "print(\"Confusion matrix : \\n\", confusion_matrix(y_test, y_pred))\n",
    "print(\"-----------------------------------------------------------------------\")\n",
    "print('\\033[1m'+\"Train Accuracy : {:.2f}%\".format(accuracy_score(y_train,classifier.predict(x_train))*100))\n",
    "print(\"Test Accuracy  : {:.2f}%\".format(accuracy_score(y_test,y_pred)*100))\n",
    "print(\"-----------------------------------------------------------------------\")"
   ]
  }
 ],
 "metadata": {
  "kernelspec": {
   "display_name": "Python 3",
   "language": "python",
   "name": "python3"
  },
  "language_info": {
   "codemirror_mode": {
    "name": "ipython",
    "version": 3
   },
   "file_extension": ".py",
   "mimetype": "text/x-python",
   "name": "python",
   "nbconvert_exporter": "python",
   "pygments_lexer": "ipython3",
   "version": "3.7.9"
  }
 },
 "nbformat": 4,
 "nbformat_minor": 4
}
