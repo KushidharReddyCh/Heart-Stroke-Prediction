{
 "cells": [
  {
   "cell_type": "markdown",
   "metadata": {},
   "source": [
    "## Importing All required Libraries"
   ]
  },
  {
   "cell_type": "code",
   "execution_count": 1,
   "metadata": {},
   "outputs": [],
   "source": [
    "import numpy as np\n",
    "import pandas as pd\n",
    "import seaborn as sns\n",
    "import matplotlib.pyplot as plt\n",
    "from sklearn.neighbors import KNeighborsClassifier\n",
    "from sklearn.metrics import classification_report\n",
    "from sklearn.metrics import confusion_matrix\n",
    "from sklearn.metrics import accuracy_score\n",
    "from sklearn.model_selection import GridSearchCV"
   ]
  },
  {
   "cell_type": "markdown",
   "metadata": {},
   "source": [
    "## Read Data"
   ]
  },
  {
   "cell_type": "code",
   "execution_count": 2,
   "metadata": {},
   "outputs": [],
   "source": [
    "x_train = np.genfromtxt('../Datasets/X_train.csv', delimiter = ',')[1:, 1:]\n",
    "x_test  = np.genfromtxt('../Datasets/X_test.csv', delimiter = ',')[1:, 1:]"
   ]
  },
  {
   "cell_type": "code",
   "execution_count": 3,
   "metadata": {},
   "outputs": [],
   "source": [
    "y_train = np.genfromtxt('../Datasets/y_train.csv', delimiter = ',')[1:, 1:]\n",
    "y_train = y_train.reshape(y_train.shape[0])\n",
    "\n",
    "y_test = np.genfromtxt('../Datasets/y_test.csv', delimiter = ',')[1:, 1:]\n",
    "y_test = y_test.reshape(y_test.shape[0])"
   ]
  },
  {
   "cell_type": "markdown",
   "metadata": {},
   "source": [
    "## Base Line Model"
   ]
  },
  {
   "cell_type": "code",
   "execution_count": 4,
   "metadata": {},
   "outputs": [],
   "source": [
    "clf = KNeighborsClassifier()\n",
    "clf.fit(x_train, y_train)\n",
    "y_pred = clf.predict(x_test)"
   ]
  },
  {
   "cell_type": "code",
   "execution_count": 5,
   "metadata": {},
   "outputs": [
    {
     "name": "stdout",
     "output_type": "stream",
     "text": [
      "-----------------------------------------------------------------------\n",
      "              precision    recall  f1-score   support\n",
      "\n",
      "         0.0       0.84      0.90      0.87        29\n",
      "         1.0       0.90      0.84      0.87        32\n",
      "\n",
      "    accuracy                           0.87        61\n",
      "   macro avg       0.87      0.87      0.87        61\n",
      "weighted avg       0.87      0.87      0.87        61\n",
      "\n",
      "-----------------------------------------------------------------------\n"
     ]
    }
   ],
   "source": [
    "print(\"-----------------------------------------------------------------------\")\n",
    "print(classification_report(y_test, y_pred))\n",
    "print(\"-----------------------------------------------------------------------\")"
   ]
  },
  {
   "cell_type": "code",
   "execution_count": 6,
   "metadata": {
    "scrolled": true
   },
   "outputs": [
    {
     "name": "stdout",
     "output_type": "stream",
     "text": [
      "-----------------------------------------------------------------------\n",
      "Confusion matrix : \n",
      " [[26  3]\n",
      " [ 5 27]]\n",
      "-----------------------------------------------------------------------\n",
      "\u001b[1mTrain Accuracy : 86.36%\n",
      "Test Accuracy  : 86.89%\n",
      "-----------------------------------------------------------------------\n"
     ]
    }
   ],
   "source": [
    "print(\"-----------------------------------------------------------------------\")\n",
    "print(\"Confusion matrix : \\n\", confusion_matrix(y_test, y_pred))\n",
    "print(\"-----------------------------------------------------------------------\")\n",
    "print('\\033[1m'+\"Train Accuracy : {:.2f}%\".format(accuracy_score(y_train,clf.predict(x_train))*100))\n",
    "print(\"Test Accuracy  : {:.2f}%\".format(accuracy_score(y_test,y_pred)*100))\n",
    "print(\"-----------------------------------------------------------------------\")"
   ]
  },
  {
   "cell_type": "markdown",
   "metadata": {},
   "source": [
    "## Effect of n_neighbors on accuracy"
   ]
  },
  {
   "cell_type": "code",
   "execution_count": 9,
   "metadata": {},
   "outputs": [
    {
     "name": "stdout",
     "output_type": "stream",
     "text": [
      "1  :  0.819672131147541\n",
      "3  :  0.8360655737704918\n",
      "5  :  0.8688524590163934\n",
      "7  :  0.8852459016393442\n",
      "9  :  0.8524590163934426\n",
      "11  :  0.8688524590163934\n",
      "13  :  0.8360655737704918\n",
      "15  :  0.819672131147541\n",
      "17  :  0.8360655737704918\n",
      "19  :  0.819672131147541\n",
      "21  :  0.819672131147541\n"
     ]
    }
   ],
   "source": [
    "x_axis = []\n",
    "y_axis = []\n",
    "for i in range(1, 22, 2):\n",
    "    clf = KNeighborsClassifier(n_neighbors = i)\n",
    "    clf.fit(x_train, y_train)\n",
    "    y_pred = clf.predict(x_test)\n",
    "    print(i, \" : \", accuracy_score(y_test, y_pred))\n",
    "    x_axis.append(i)\n",
    "    y_axis.append(accuracy_score(y_test, y_pred))"
   ]
  },
  {
   "cell_type": "code",
   "execution_count": 10,
   "metadata": {},
   "outputs": [
    {
     "data": {
      "image/png": "[encoded data removed]",
      "text/plain": [
       "<Figure size 432x288 with 1 Axes>"
      ]
     },
     "metadata": {
      "needs_background": "light"
     },
     "output_type": "display_data"
    }
   ],
   "source": [
    "plt.scatter(x_axis, y_axis)\n",
    "plt.plot(x_axis, y_axis)\n",
    "plt.xlabel('N_Neighbors')\n",
    "plt.ylabel('Accuracy')\n",
    "plt.title(\"Accuracy VS n_neighbors\")\n",
    "plt.grid()\n",
    "plt.show()"
   ]
  },
  {
   "cell_type": "markdown",
   "metadata": {},
   "source": [
    "## Grid search"
   ]
  },
  {
   "cell_type": "code",
   "execution_count": 27,
   "metadata": {},
   "outputs": [
    {
     "data": {
      "text/plain": [
       "{'algorithm': 'auto',\n",
       " 'metric': 'manhattan',\n",
       " 'n_neighbors': 5,\n",
       " 'p': 1,\n",
       " 'weights': 'uniform'}"
      ]
     },
     "execution_count": 27,
     "metadata": {},
     "output_type": "execute_result"
    }
   ],
   "source": [
    "param = [\n",
    "  {\n",
    "      'n_neighbors':[1,3,5,7,9,11,13,15],\n",
    "      'weights':['uniform', 'distance'],\n",
    "      'metric' : ['euclidean','manhattan','minkowski'], \n",
    "      'algorithm' :['auto', 'ball_tree', 'kd_tree', 'brute'],\n",
    "      'p':[1,2],\n",
    "   },\n",
    " ]\n",
    "grid_clf = GridSearchCV(clf, param_grid=param, scoring='accuracy', cv=10)\n",
    "grid_clf.fit(x_train,y_train)\n",
    "grid_clf.best_params_"
   ]
  },
  {
   "cell_type": "code",
   "execution_count": 19,
   "metadata": {},
   "outputs": [],
   "source": [
    "classifier = KNeighborsClassifier(n_neighbors =7,metric='manhattan' ,weights = 'uniform', p = 1,algorithm= 'auto')\n",
    "classifier.fit(x_train, y_train)\n",
    "y_pred = classifier.predict(x_test)"
   ]
  },
  {
   "cell_type": "code",
   "execution_count": 20,
   "metadata": {},
   "outputs": [
    {
     "name": "stdout",
     "output_type": "stream",
     "text": [
      "-----------------------------------------------------------------------\n",
      "              precision    recall  f1-score   support\n",
      "\n",
      "         0.0       0.86      0.86      0.86        29\n",
      "         1.0       0.88      0.88      0.88        32\n",
      "\n",
      "    accuracy                           0.87        61\n",
      "   macro avg       0.87      0.87      0.87        61\n",
      "weighted avg       0.87      0.87      0.87        61\n",
      "\n",
      "-----------------------------------------------------------------------\n"
     ]
    }
   ],
   "source": [
    "print(\"-----------------------------------------------------------------------\")\n",
    "print(classification_report(y_test, y_pred))\n",
    "print(\"-----------------------------------------------------------------------\")"
   ]
  },
  {
   "cell_type": "code",
   "execution_count": 21,
   "metadata": {},
   "outputs": [
    {
     "name": "stdout",
     "output_type": "stream",
     "text": [
      "-----------------------------------------------------------------------\n",
      "Confusion matrix : \n",
      " [[25  4]\n",
      " [ 4 28]]\n",
      "-----------------------------------------------------------------------\n",
      "\u001b[1mTrain Accuracy : 86.36%\n",
      "Test Accuracy  : 86.89%\n",
      "-----------------------------------------------------------------------\n"
     ]
    }
   ],
   "source": [
    "print(\"-----------------------------------------------------------------------\")\n",
    "print(\"Confusion matrix : \\n\", confusion_matrix(y_test, y_pred))\n",
    "print(\"-----------------------------------------------------------------------\")\n",
    "print('\\033[1m'+\"Train Accuracy : {:.2f}%\".format(accuracy_score(y_train,clf.predict(x_train))*100))\n",
    "print(\"Test Accuracy  : {:.2f}%\".format(accuracy_score(y_test,y_pred)*100))\n",
    "print(\"-----------------------------------------------------------------------\")"
   ]
  }
 ],
 "metadata": {
  "kernelspec": {
   "display_name": "Python 3",
   "language": "python",
   "name": "python3"
  },
  "language_info": {
   "codemirror_mode": {
    "name": "ipython",
    "version": 3
   },
   "file_extension": ".py",
   "mimetype": "text/x-python",
   "name": "python",
   "nbconvert_exporter": "python",
   "pygments_lexer": "ipython3",
   "version": "3.7.9"
  }
 },
 "nbformat": 4,
 "nbformat_minor": 4
}
