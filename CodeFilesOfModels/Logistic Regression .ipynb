{
 "cells": [
  {
   "cell_type": "markdown",
   "metadata": {},
   "source": [
    "## Importing all Required Libraries"
   ]
  },
  {
   "cell_type": "code",
   "execution_count": 1,
   "metadata": {},
   "outputs": [],
   "source": [
    "import numpy as np\n",
    "import pandas as pd\n",
    "import seaborn as sns\n",
    "import matplotlib.pyplot as plt\n",
    "from sklearn.linear_model import LogisticRegression\n",
    "from sklearn.metrics import classification_report\n",
    "from sklearn.metrics import confusion_matrix\n",
    "from sklearn.metrics import accuracy_score\n",
    "from sklearn.model_selection import train_test_split,GridSearchCV,cross_val_score,StratifiedKFold\n",
    "import warnings\n",
    "warnings.filterwarnings(\"ignore\")"
   ]
  },
  {
   "cell_type": "markdown",
   "metadata": {},
   "source": [
    "## Reading Data"
   ]
  },
  {
   "cell_type": "code",
   "execution_count": 2,
   "metadata": {},
   "outputs": [],
   "source": [
    "x_train = np.genfromtxt('../Datasets/X_train.csv', delimiter = ',')[1:, 1:]\n",
    "x_test  = np.genfromtxt('../Datasets/X_test.csv', delimiter = ',')[1:, 1:]"
   ]
  },
  {
   "cell_type": "code",
   "execution_count": 3,
   "metadata": {},
   "outputs": [],
   "source": [
    "y_train = np.genfromtxt('../Datasets/y_train.csv', delimiter = ',')[1:, 1:]\n",
    "y_train = y_train.reshape(y_train.shape[0])\n",
    "\n",
    "y_test = np.genfromtxt('../Datasets/y_test.csv', delimiter = ',')[1:, 1:]\n",
    "y_test = y_test.reshape(y_test.shape[0])"
   ]
  },
  {
   "cell_type": "markdown",
   "metadata": {},
   "source": [
    "## BaseLine Model"
   ]
  },
  {
   "cell_type": "code",
   "execution_count": 4,
   "metadata": {},
   "outputs": [],
   "source": [
    "clf = LogisticRegression(random_state = 0, max_iter = 7000)\n",
    "clf.fit(x_train, y_train)\n",
    "y_pred = clf.predict(x_test)"
   ]
  },
  {
   "cell_type": "code",
   "execution_count": 7,
   "metadata": {},
   "outputs": [
    {
     "name": "stdout",
     "output_type": "stream",
     "text": [
      "-----------------------------------------------------------------------\n",
      "              precision    recall  f1-score   support\n",
      "\n",
      "         0.0       0.87      0.93      0.90        29\n",
      "         1.0       0.93      0.88      0.90        32\n",
      "\n",
      "    accuracy                           0.90        61\n",
      "   macro avg       0.90      0.90      0.90        61\n",
      "weighted avg       0.90      0.90      0.90        61\n",
      "\n",
      "-----------------------------------------------------------------------\n"
     ]
    }
   ],
   "source": [
    "print(\"-----------------------------------------------------------------------\")\n",
    "print(classification_report(y_test, y_pred))\n",
    "print(\"-----------------------------------------------------------------------\")"
   ]
  },
  {
   "cell_type": "code",
   "execution_count": 8,
   "metadata": {},
   "outputs": [
    {
     "name": "stdout",
     "output_type": "stream",
     "text": [
      "-----------------------------------------------------------------------\n",
      "Confusion matrix : \n",
      " [[27  2]\n",
      " [ 4 28]]\n",
      "-----------------------------------------------------------------------\n",
      "\u001b[1mTrain Accuracy : 86.78%\n",
      "Test Accuracy  : 90.16%\n",
      "-----------------------------------------------------------------------\n"
     ]
    }
   ],
   "source": [
    "print(\"-----------------------------------------------------------------------\")\n",
    "print(\"Confusion matrix : \\n\", confusion_matrix(y_test, y_pred))\n",
    "print(\"-----------------------------------------------------------------------\")\n",
    "print('\\033[1m'+\"Train Accuracy : {:.2f}%\".format(accuracy_score(y_train,clf.predict(x_train))*100))\n",
    "print(\"Test Accuracy  : {:.2f}%\".format(accuracy_score(y_test,y_pred)*100))\n",
    "print(\"-----------------------------------------------------------------------\")"
   ]
  },
  {
   "cell_type": "markdown",
   "metadata": {},
   "source": [
    "## Effecte of C on Acccuracy and Parameter tuning"
   ]
  },
  {
   "cell_type": "code",
   "execution_count": 10,
   "metadata": {},
   "outputs": [],
   "source": [
    "def Parameter_Tuning(x_train, x_validate, y_train, y_validate):\n",
    "    max_acc = -1\n",
    "    c_max = 1 \n",
    "    c_range = np.logspace(-4, 4, 20)\n",
    "    train_accuracy_score_list = list()\n",
    "    test_accuracy_score_list = list()\n",
    "    for c in c_range:\n",
    "        # fitting model\n",
    "        model = LogisticRegression(solver = 'lbfgs',C = c, random_state = 0, max_iter = 20000)\n",
    "        model.fit(x_train, y_train)\n",
    "        \n",
    "        # validating model and obtaining validation score\n",
    "        y_pred_test = model.predict(x_test)\n",
    "        acc_test = accuracy_score(y_test , y_pred_test)\n",
    "        test_accuracy_score_list.append(acc_test)\n",
    "        \n",
    "        # obtaining training score\n",
    "        y_pred_train = model.predict(x_train)\n",
    "        acc_train = accuracy_score(y_train, y_pred_train)\n",
    "        train_accuracy_score_list.append(acc_train)\n",
    "        \n",
    "        print('c : ', c, \" accuracy_test : \", acc_test , \" accuracy_train : \", acc_train)\n",
    "        if max_acc < acc_test:\n",
    "            max_acc = acc_test\n",
    "            c_max = c\n",
    "            \n",
    "    print('\\n\\nBest C for better accuracy : ', c_max)\n",
    "    return c_max, c_range, test_accuracy_score_list, train_accuracy_score_list\n"
   ]
  },
  {
   "cell_type": "code",
   "execution_count": 11,
   "metadata": {},
   "outputs": [
    {
     "name": "stdout",
     "output_type": "stream",
     "text": [
      "c :  0.0001  accuracy_test :  0.5245901639344263  accuracy_train :  0.5495867768595041\n",
      "c :  0.00026366508987303583  accuracy_test :  0.5245901639344263  accuracy_train :  0.5495867768595041\n",
      "c :  0.0006951927961775605  accuracy_test :  0.5409836065573771  accuracy_train :  0.5578512396694215\n",
      "c :  0.0018329807108324356  accuracy_test :  0.8032786885245902  accuracy_train :  0.7231404958677686\n",
      "c :  0.004832930238571752  accuracy_test :  0.7868852459016393  accuracy_train :  0.7851239669421488\n",
      "c :  0.012742749857031334  accuracy_test :  0.8360655737704918  accuracy_train :  0.7933884297520661\n",
      "c :  0.03359818286283781  accuracy_test :  0.8688524590163934  accuracy_train :  0.8057851239669421\n",
      "c :  0.08858667904100823  accuracy_test :  0.8688524590163934  accuracy_train :  0.8471074380165289\n",
      "c :  0.23357214690901212  accuracy_test :  0.9016393442622951  accuracy_train :  0.8553719008264463\n",
      "c :  0.615848211066026  accuracy_test :  0.9016393442622951  accuracy_train :  0.8636363636363636\n",
      "c :  1.623776739188721  accuracy_test :  0.9016393442622951  accuracy_train :  0.871900826446281\n",
      "c :  4.281332398719396  accuracy_test :  0.8852459016393442  accuracy_train :  0.871900826446281\n",
      "c :  11.288378916846883  accuracy_test :  0.8852459016393442  accuracy_train :  0.8760330578512396\n",
      "c :  29.763514416313132  accuracy_test :  0.8688524590163934  accuracy_train :  0.8760330578512396\n",
      "c :  78.47599703514607  accuracy_test :  0.8688524590163934  accuracy_train :  0.8801652892561983\n",
      "c :  206.913808111479  accuracy_test :  0.8688524590163934  accuracy_train :  0.8801652892561983\n",
      "c :  545.5594781168514  accuracy_test :  0.8688524590163934  accuracy_train :  0.8801652892561983\n",
      "c :  1438.44988828766  accuracy_test :  0.8524590163934426  accuracy_train :  0.8801652892561983\n",
      "c :  3792.690190732246  accuracy_test :  0.8524590163934426  accuracy_train :  0.8801652892561983\n",
      "c :  10000.0  accuracy_test :  0.8524590163934426  accuracy_train :  0.8801652892561983\n",
      "\n",
      "\n",
      "Best C for better accuracy :  0.23357214690901212\n",
      "\n",
      "\n",
      "\n",
      "\n"
     ]
    },
    {
     "data": {
      "image/png": "[encoded data removed]",
      "text/plain": [
       "<Figure size 1080x504 with 1 Axes>"
      ]
     },
     "metadata": {
      "needs_background": "light"
     },
     "output_type": "display_data"
    }
   ],
   "source": [
    "c_max, c_range, test_accuracy_score_list, train_accuracy_score_list = Parameter_Tuning(x_train, x_test, y_train, y_test)\n",
    "print('\\n\\n\\n')\n",
    "fig, ax = plt.subplots(figsize = (15, 7))\n",
    "ax.plot(c_range, test_accuracy_score_list, marker = 'o', color = 'red', label = 'test')\n",
    "ax.plot(c_range, train_accuracy_score_list, marker = 'o', color = 'blue', label = 'train')\n",
    "ax.set_xlabel(\"C Values\")\n",
    "ax.set_ylabel(\"Accuracy Score\")\n",
    "ax.set_title(\"C Values Vs Accuracy Scores of Train Data and Test Data\")\n",
    "ax.legend()\n",
    "plt.grid()\n",
    "plt.show()"
   ]
  },
  {
   "cell_type": "code",
   "execution_count": 21,
   "metadata": {},
   "outputs": [],
   "source": [
    "model = LogisticRegression(solver = 'lbfgs',C = c_max, random_state = 0, max_iter = 20000)\n",
    "model.fit(x_train, y_train)\n",
    "y_predict = model.predict(x_test)"
   ]
  },
  {
   "cell_type": "code",
   "execution_count": 23,
   "metadata": {},
   "outputs": [
    {
     "name": "stdout",
     "output_type": "stream",
     "text": [
      "-----------------------------------------------------------------------\n",
      "              precision    recall  f1-score   support\n",
      "\n",
      "         0.0       0.87      0.93      0.90        29\n",
      "         1.0       0.93      0.88      0.90        32\n",
      "\n",
      "    accuracy                           0.90        61\n",
      "   macro avg       0.90      0.90      0.90        61\n",
      "weighted avg       0.90      0.90      0.90        61\n",
      "\n",
      "-----------------------------------------------------------------------\n"
     ]
    }
   ],
   "source": [
    "print(\"-----------------------------------------------------------------------\")\n",
    "print(classification_report(y_test, y_pred))\n",
    "print(\"-----------------------------------------------------------------------\")"
   ]
  },
  {
   "cell_type": "code",
   "execution_count": 15,
   "metadata": {},
   "outputs": [
    {
     "name": "stdout",
     "output_type": "stream",
     "text": [
      "-----------------------------------------------------------------------\n",
      "Confusion matrix : \n",
      " [[27  2]\n",
      " [ 4 28]]\n",
      "-----------------------------------------------------------------------\n",
      "\u001b[1mTrain Accuracy : 85.54%\n",
      "Test Accuracy  : 90.16%\n",
      "-----------------------------------------------------------------------\n"
     ]
    }
   ],
   "source": [
    "print(\"-----------------------------------------------------------------------\")\n",
    "print(\"Confusion matrix : \\n\", confusion_matrix(y_test, y_predict))\n",
    "print(\"-----------------------------------------------------------------------\")\n",
    "print('\\033[1m'+\"Train Accuracy : {:.2f}%\".format(accuracy_score(y_train,model.predict(x_train))*100))\n",
    "print(\"Test Accuracy  : {:.2f}%\".format(accuracy_score(y_test,y_predict)*100))\n",
    "print(\"-----------------------------------------------------------------------\")"
   ]
  },
  {
   "cell_type": "markdown",
   "metadata": {},
   "source": [
    "## GRID SEARCH"
   ]
  },
  {
   "cell_type": "code",
   "execution_count": 17,
   "metadata": {},
   "outputs": [
    {
     "data": {
      "text/plain": [
       "{'C': 10, 'l1_ratio': 0.1, 'penalty': 'l2', 'solver': 'newton-cg'}"
      ]
     },
     "execution_count": 17,
     "metadata": {},
     "output_type": "execute_result"
    }
   ],
   "source": [
    "param = [\n",
    "  {'solver': ['newton-cg', 'lbfgs', 'liblinear','saga'],\n",
    "   'penalty':['l2','l1','elasticnet'],\n",
    "    'C':[ 100,10, 1.0, 0.1, 0.01,0.0001],\n",
    "   'l1_ratio':[0.1,0.2,0.3,0.4,0.5,0.6,0.7,0.8,0.9]\n",
    "   },\n",
    " ]\n",
    "grid_clf = GridSearchCV(clf, param_grid=param, scoring='accuracy', cv=10)\n",
    "grid_clf.fit(x_train,y_train)\n",
    "grid_clf.best_params_"
   ]
  },
  {
   "cell_type": "code",
   "execution_count": 24,
   "metadata": {
    "scrolled": true
   },
   "outputs": [
    {
     "name": "stdout",
     "output_type": "stream",
     "text": [
      "-----------------------------------------------------------------------\n",
      "              precision    recall  f1-score   support\n",
      "\n",
      "         0.0       0.87      0.93      0.90        29\n",
      "         1.0       0.93      0.88      0.90        32\n",
      "\n",
      "    accuracy                           0.90        61\n",
      "   macro avg       0.90      0.90      0.90        61\n",
      "weighted avg       0.90      0.90      0.90        61\n",
      "\n",
      "-----------------------------------------------------------------------\n",
      "-----------------------------------------------------------------------\n",
      "Confusion matrix : \n",
      " [[26  3]\n",
      " [ 4 28]]\n",
      "-----------------------------------------------------------------------\n",
      "\u001b[1mTrain Accuracy : 88.02%\n",
      "Test Accuracy  : 88.52%\n"
     ]
    }
   ],
   "source": [
    "model = LogisticRegression(solver = 'newton-cg',C=10,l1_ratio=0.1,penalty='l2',max_iter = 20000)\n",
    "model.fit(x_train, y_train)\n",
    "y_predict = model.predict(x_test)\n",
    "\n",
    "print(\"-----------------------------------------------------------------------\")\n",
    "print(classification_report(y_test, y_pred))\n",
    "print(\"-----------------------------------------------------------------------\")\n",
    "\n",
    "print(\"-----------------------------------------------------------------------\")\n",
    "print(\"Confusion matrix : \\n\", confusion_matrix(y_test, y_predict))\n",
    "print(\"-----------------------------------------------------------------------\")\n",
    "print('\\033[1m'+\"Train Accuracy : {:.2f}%\".format(accuracy_score(y_train,model.predict(x_train))*100))\n",
    "print(\"Test Accuracy  : {:.2f}%\".format(accuracy_score(y_test,y_predict)*100))"
   ]
  }
 ],
 "metadata": {
  "kernelspec": {
   "display_name": "Python 3",
   "language": "python",
   "name": "python3"
  },
  "language_info": {
   "codemirror_mode": {
    "name": "ipython",
    "version": 3
   },
   "file_extension": ".py",
   "mimetype": "text/x-python",
   "name": "python",
   "nbconvert_exporter": "python",
   "pygments_lexer": "ipython3",
   "version": "3.7.9"
  }
 },
 "nbformat": 4,
 "nbformat_minor": 4
}
